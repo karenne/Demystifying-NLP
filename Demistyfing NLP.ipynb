{
 "cells": [
  {
   "cell_type": "markdown",
   "metadata": {},
   "source": [
    "# NATURAL LANGUAGE PROCESSING"
   ]
  },
  {
   "cell_type": "markdown",
   "metadata": {},
   "source": [
    "Natural Language Processing (NLP) is the Artificial Intelligence technique that analyses human language through different tasks:\n",
    "\n",
    "* **Sentiment Analysis**\n",
    "* **Summarization**\n",
    "* **Name Entity Recognision (NER)**\n",
    "* Topic Modeling\n",
    "* Text & Emojis Classification\n",
    "* Sentence Tokenization\n",
    "* Stop Words\n",
    "* Stemmization\n",
    "* Part of Speech Tagging (POS)\n",
    "* Lemmatization \n",
    "* Text Generation\n",
    "* **Question&Answering**\n",
    "\n",
    "...AND MORE\n",
    "\n",
    "Here in this notebook we are exploring some of those tasks.\n",
    "\n",
    "<img src=\"https://images.pexels.com/photos/267669/pexels-photo-267669.jpeg?auto=compress&cs=tinysrgb&dpr=3&h=750&w=1260\" style=\"width: 455px; height: 355px;\">"
   ]
  },
  {
   "cell_type": "markdown",
   "metadata": {},
   "source": [
    "# CHOOSE SOME EXAMPLES: POSITIVE VS NEGATIVE"
   ]
  },
  {
   "cell_type": "markdown",
   "metadata": {},
   "source": [
    "### Positive: \"Mucilon to support reforestation in Brazil\""
   ]
  },
  {
   "cell_type": "code",
   "execution_count": 1,
   "metadata": {},
   "outputs": [
    {
     "data": {
      "text/plain": [
       "\"'Mucilon: Taking Care of the Planet for Your Children.' This is the latest initiative of Nestlé's leading infant cereal brand in Brazil. As part of Nestlé's reforestation program announced earlier this year, Mucilon is offering families the opportunity to dedicate one of the one million trees Nestlé will plant in Brazil’s Atlantic Forest to a child. In 2020 alone, the company will plant an estimated 500,000 seedlings. \\n To encourage those children to learn about and take responsibility for protecting the planet, they will each receive a confirmation of their personal tree's number.\\n 'We want to act as a mobilizing force, a force for good that helps build a future which is better for everyone and, in particular, for our children', says Marcelo Melchior, CEO of Nestlé Brazil.\\n The aim of the reforestation program is to contribute to the expansion of the forest's green area, which covers approximately 1,200 hectares of replanted forest – the equivalent of 1,110 soccer fields. On top of that, more than 100 tree species will be restored, including some that are at risk of extinction.\""
      ]
     },
     "execution_count": 1,
     "metadata": {},
     "output_type": "execute_result"
    }
   ],
   "source": [
    "title =  \"Mucilon to support reforestation in Brazil\"\n",
    "content_positive = \"'Mucilon: Taking Care of the Planet for Your Children.' This is the latest initiative of Nestlé's leading infant cereal brand in Brazil. As part of Nestlé's reforestation program announced earlier this year, Mucilon is offering families the opportunity to dedicate one of the one million trees Nestlé will plant in Brazil’s Atlantic Forest to a child. In 2020 alone, the company will plant an estimated 500,000 seedlings. \\n To encourage those children to learn about and take responsibility for protecting the planet, they will each receive a confirmation of their personal tree's number.\\n 'We want to act as a mobilizing force, a force for good that helps build a future which is better for everyone and, in particular, for our children', says Marcelo Melchior, CEO of Nestlé Brazil.\\n The aim of the reforestation program is to contribute to the expansion of the forest's green area, which covers approximately 1,200 hectares of replanted forest – the equivalent of 1,110 soccer fields. On top of that, more than 100 tree species will be restored, including some that are at risk of extinction.\"\n",
    "content_positive"
   ]
  },
  {
   "cell_type": "markdown",
   "metadata": {},
   "source": [
    "### Negative: \"COVID-19 cases rising in 39 states as infections roll across nation: 'We are overwhelmed\""
   ]
  },
  {
   "cell_type": "code",
   "execution_count": 2,
   "metadata": {},
   "outputs": [],
   "source": [
    "content_negative = \"U.S. coronavirus cases surpassed 7.5 million on Wednesday with most states seeing a rise in cases and a startling nine of them setting ominous seven-day records for infections.\\n A USA TODAY analysis of Johns Hopkins data through late Tuesday shows Alaska, Indiana, Kansas, Kentucky, Minnesota, Montana, North Dakota, Utah and Wyoming all set state records in the seven-day period. In all, 39 states reported more coronavirus cases in the last week than they had in the week before. \\n More than 210,000 Americans have died, and Wisconsin and Hawaii reported record numbers of deaths in their states for a seven-day period. \\n President Donald Trump's assertion that Americans need not worry because 'some really great drugs and knowledge' have been developed under his administration has prompted dismay for many in the medical community.\""
   ]
  },
  {
   "cell_type": "code",
   "execution_count": 3,
   "metadata": {},
   "outputs": [
    {
     "data": {
      "text/plain": [
       "\"U.S. coronavirus cases surpassed 7.5 million on Wednesday with most states seeing a rise in cases and a startling nine of them setting ominous seven-day records for infections.\\n A USA TODAY analysis of Johns Hopkins data through late Tuesday shows Alaska, Indiana, Kansas, Kentucky, Minnesota, Montana, North Dakota, Utah and Wyoming all set state records in the seven-day period. In all, 39 states reported more coronavirus cases in the last week than they had in the week before. \\n More than 210,000 Americans have died, and Wisconsin and Hawaii reported record numbers of deaths in their states for a seven-day period. \\n President Donald Trump's assertion that Americans need not worry because 'some really great drugs and knowledge' have been developed under his administration has prompted dismay for many in the medical community.\""
      ]
     },
     "execution_count": 3,
     "metadata": {},
     "output_type": "execute_result"
    }
   ],
   "source": [
    "content_negative"
   ]
  },
  {
   "cell_type": "markdown",
   "metadata": {},
   "source": [
    "# NLP TASK 1: Sentiment Analysis"
   ]
  },
  {
   "cell_type": "code",
   "execution_count": 4,
   "metadata": {},
   "outputs": [],
   "source": [
    "from transformers import pipeline\n",
    "\n",
    "bert_sent_model = pipeline('sentiment-analysis')"
   ]
  },
  {
   "cell_type": "code",
   "execution_count": 5,
   "metadata": {},
   "outputs": [],
   "source": [
    "ans = bert_sent_model(content_positive)\n"
   ]
  },
  {
   "cell_type": "code",
   "execution_count": 6,
   "metadata": {},
   "outputs": [
    {
     "data": {
      "text/plain": [
       "[{'label': 'POSITIVE', 'score': 0.9928104281425476}]"
      ]
     },
     "execution_count": 6,
     "metadata": {},
     "output_type": "execute_result"
    }
   ],
   "source": [
    "ans"
   ]
  },
  {
   "cell_type": "code",
   "execution_count": 7,
   "metadata": {},
   "outputs": [],
   "source": [
    "ans = bert_sent_model(content_negative)\n"
   ]
  },
  {
   "cell_type": "code",
   "execution_count": 8,
   "metadata": {},
   "outputs": [
    {
     "data": {
      "text/plain": [
       "[{'label': 'NEGATIVE', 'score': 0.9670604467391968}]"
      ]
     },
     "execution_count": 8,
     "metadata": {},
     "output_type": "execute_result"
    }
   ],
   "source": [
    "ans"
   ]
  },
  {
   "cell_type": "code",
   "execution_count": 9,
   "metadata": {},
   "outputs": [
    {
     "data": {
      "text/plain": [
       "[{'label': 'POSITIVE', 'score': 0.9994400143623352}]"
      ]
     },
     "execution_count": 9,
     "metadata": {},
     "output_type": "execute_result"
    }
   ],
   "source": [
    "bert_sent_model(\"2 lines of code? WOW. This is magic! And I can write whatever you want\")"
   ]
  },
  {
   "cell_type": "markdown",
   "metadata": {},
   "source": [
    "# NLP TASK 2: SUMMARIZATION"
   ]
  },
  {
   "cell_type": "code",
   "execution_count": 10,
   "metadata": {},
   "outputs": [
    {
     "name": "stderr",
     "output_type": "stream",
     "text": [
      "C:\\Anaconda3\\lib\\site-packages\\transformers\\modeling_auto.py:821: FutureWarning: The class `AutoModelWithLMHead` is deprecated and will be removed in a future version. Please use `AutoModelForCausalLM` for causal language models, `AutoModelForMaskedLM` for masked language models and `AutoModelForSeq2SeqLM` for encoder-decoder models.\n",
      "  FutureWarning,\n"
     ]
    }
   ],
   "source": [
    "\n",
    "from transformers import AutoTokenizer, AutoModelWithLMHead\n",
    "\n",
    "tokenizer = AutoTokenizer.from_pretrained(\"mrm8488/t5-base-finetuned-summarize-news\")\n",
    "\n",
    "model = AutoModelWithLMHead.from_pretrained(\"mrm8488/t5-base-finetuned-summarize-news\")"
   ]
  },
  {
   "cell_type": "code",
   "execution_count": 11,
   "metadata": {},
   "outputs": [],
   "source": [
    "input_ids = tokenizer.encode(content_positive, return_tensors=\"pt\", add_special_tokens=True)\n",
    "\n",
    "generated_ids = model.generate(input_ids=input_ids,max_length=100)\n",
    "\n",
    "preds_summary = [tokenizer.decode(g, skip_special_tokens=True, \n",
    "                          clean_up_tokenization_spaces=True)\n",
    "                 for g in generated_ids]\n",
    "\n"
   ]
  },
  {
   "cell_type": "code",
   "execution_count": 12,
   "metadata": {},
   "outputs": [
    {
     "data": {
      "text/plain": [
       "[\"Mucilon is offering families the opportunity to dedicate one of the one million trees planted in Brazil's Atlantic Forest to a child as part of Nestlé's reforestation program announced earlier this year. The company plans to plant around 500,000 seedlings in 2020. The children will receive a confirmation of their personal tree's number. As part of the program, Nestlé will plant around 100 trees, making it the equivalent of 1,110\"]"
      ]
     },
     "execution_count": 12,
     "metadata": {},
     "output_type": "execute_result"
    }
   ],
   "source": [
    "preds_summary"
   ]
  },
  {
   "cell_type": "code",
   "execution_count": 13,
   "metadata": {},
   "outputs": [],
   "source": [
    "input_ids = tokenizer.encode(content_negative, return_tensors=\"pt\", add_special_tokens=True)\n",
    "\n",
    "generated_ids = model.generate(input_ids=input_ids,max_length=50)\n",
    "\n",
    "preds_summary = [tokenizer.decode(g, skip_special_tokens=True, \n",
    "                          clean_up_tokenization_spaces=True)\n",
    "                 for g in generated_ids]\n",
    "\n"
   ]
  },
  {
   "cell_type": "code",
   "execution_count": 14,
   "metadata": {},
   "outputs": [
    {
     "data": {
      "text/plain": [
       "['on Wednesday surpassed 7.5 million, with most states seeing a rise in cases and a startling nine of them setting ominous seven-day records for infections. The number of cases surpassed 7.5 million on Wednesday']"
      ]
     },
     "execution_count": 14,
     "metadata": {},
     "output_type": "execute_result"
    }
   ],
   "source": [
    "preds_summary"
   ]
  },
  {
   "cell_type": "markdown",
   "metadata": {},
   "source": [
    "# NLP TASK 3: NAME ENTITY RECOGNISION"
   ]
  },
  {
   "cell_type": "code",
   "execution_count": 15,
   "metadata": {},
   "outputs": [],
   "source": [
    "bert_ner = pipeline('ner',grouped_entities=True)"
   ]
  },
  {
   "cell_type": "code",
   "execution_count": 16,
   "metadata": {},
   "outputs": [
    {
     "data": {
      "text/plain": [
       "[{'entity_group': 'I-MISC', 'score': 0.8006271123886108, 'word': 'Mucilon'},\n",
       " {'entity_group': 'I-MISC', 'score': 0.488721638917923, 'word': 'Taking'},\n",
       " {'entity_group': 'I-MISC', 'score': 0.8084900975227356, 'word': 'Planet'},\n",
       " {'entity_group': 'I-MISC', 'score': 0.7611815333366394, 'word': 'Children'},\n",
       " {'entity_group': 'I-ORG', 'score': 0.9968330264091492, 'word': 'Nestlé'},\n",
       " {'entity_group': 'I-LOC', 'score': 0.9988975524902344, 'word': 'Brazil'},\n",
       " {'entity_group': 'I-ORG', 'score': 0.997764786084493, 'word': 'Nestlé'},\n",
       " {'entity_group': 'I-ORG', 'score': 0.9901615579922994, 'word': 'Mucilon'},\n",
       " {'entity_group': 'I-ORG', 'score': 0.9954317212104797, 'word': 'Nestlé'},\n",
       " {'entity_group': 'I-LOC', 'score': 0.9995310306549072, 'word': 'Brazil'},\n",
       " {'entity_group': 'I-LOC',\n",
       "  'score': 0.9962860643863678,\n",
       "  'word': 'Atlantic Forest'},\n",
       " {'entity_group': 'I-PER',\n",
       "  'score': 0.9988093852996827,\n",
       "  'word': 'Marcelo Melchior'},\n",
       " {'entity_group': 'I-ORG',\n",
       "  'score': 0.9842033535242081,\n",
       "  'word': 'Nestlé Brazil'}]"
      ]
     },
     "execution_count": 16,
     "metadata": {},
     "output_type": "execute_result"
    }
   ],
   "source": [
    "bert_ner(content_positive)"
   ]
  },
  {
   "cell_type": "code",
   "execution_count": 17,
   "metadata": {},
   "outputs": [
    {
     "data": {
      "text/plain": [
       "[{'entity_group': 'I-LOC', 'score': 0.9987306594848633, 'word': 'U'},\n",
       " {'entity_group': 'I-LOC', 'score': 0.6636754423379898, 'word': 'S .'},\n",
       " {'entity_group': 'I-LOC', 'score': 0.6849371194839478, 'word': 'USA'},\n",
       " {'entity_group': 'I-ORG', 'score': 0.524163007736206, 'word': 'TO'},\n",
       " {'entity_group': 'I-ORG',\n",
       "  'score': 0.9582788050174713,\n",
       "  'word': 'Johns Hopkins'},\n",
       " {'entity_group': 'I-LOC', 'score': 0.9992624521255493, 'word': 'Alaska'},\n",
       " {'entity_group': 'I-LOC', 'score': 0.9972076416015625, 'word': 'Indiana'},\n",
       " {'entity_group': 'I-LOC', 'score': 0.9989084005355835, 'word': 'Kansas'},\n",
       " {'entity_group': 'I-LOC', 'score': 0.998690128326416, 'word': 'Kentucky'},\n",
       " {'entity_group': 'I-LOC', 'score': 0.9986274242401123, 'word': 'Minnesota'},\n",
       " {'entity_group': 'I-LOC', 'score': 0.9975356459617615, 'word': 'Montana'},\n",
       " {'entity_group': 'I-LOC',\n",
       "  'score': 0.9989486634731293,\n",
       "  'word': 'North Dakota'},\n",
       " {'entity_group': 'I-LOC', 'score': 0.9991711974143982, 'word': 'Utah'},\n",
       " {'entity_group': 'I-LOC', 'score': 0.9990218877792358, 'word': 'Wyoming'},\n",
       " {'entity_group': 'I-MISC', 'score': 0.9980188012123108, 'word': 'Americans'},\n",
       " {'entity_group': 'I-LOC', 'score': 0.9993391633033752, 'word': 'Wisconsin'},\n",
       " {'entity_group': 'I-LOC', 'score': 0.9995567202568054, 'word': 'Hawaii'},\n",
       " {'entity_group': 'I-PER',\n",
       "  'score': 0.9987239837646484,\n",
       "  'word': 'Donald Trump'},\n",
       " {'entity_group': 'I-MISC', 'score': 0.9969831705093384, 'word': 'Americans'}]"
      ]
     },
     "execution_count": 17,
     "metadata": {},
     "output_type": "execute_result"
    }
   ],
   "source": [
    "bert_ner(content_negative)"
   ]
  },
  {
   "cell_type": "markdown",
   "metadata": {},
   "source": [
    "# NLP TASK 4: QUESTION&ANSWERS"
   ]
  },
  {
   "cell_type": "code",
   "execution_count": 17,
   "metadata": {},
   "outputs": [],
   "source": [
    "bert_qa = pipeline('question-answering')"
   ]
  },
  {
   "cell_type": "code",
   "execution_count": 18,
   "metadata": {},
   "outputs": [
    {
     "data": {
      "text/plain": [
       "{'answer': 'offering families the opportunity to dedicate one of the one million trees',\n",
       " 'end': 293,\n",
       " 'score': 0.018586063757538795,\n",
       " 'start': 219}"
      ]
     },
     "execution_count": 18,
     "metadata": {},
     "output_type": "execute_result"
    }
   ],
   "source": [
    "bert_qa(context = content_positive, question = 'What is Nestle doing?')"
   ]
  },
  {
   "cell_type": "code",
   "execution_count": 19,
   "metadata": {},
   "outputs": [
    {
     "data": {
      "text/plain": [
       "{'answer': 'a force for good that helps build a future which is better for everyone',\n",
       " 'end': 700,\n",
       " 'score': 0.04284476116299629,\n",
       " 'start': 629}"
      ]
     },
     "execution_count": 19,
     "metadata": {},
     "output_type": "execute_result"
    }
   ],
   "source": [
    "bert_qa(context = content_positive, question = 'Is Nestle good?')"
   ]
  },
  {
   "cell_type": "code",
   "execution_count": 20,
   "metadata": {},
   "outputs": [
    {
     "data": {
      "text/plain": [
       "{'answer': \"expansion of the forest's green area,\",\n",
       " 'end': 884,\n",
       " 'score': 0.07284179329872131,\n",
       " 'start': 847}"
      ]
     },
     "execution_count": 20,
     "metadata": {},
     "output_type": "execute_result"
    }
   ],
   "source": [
    "bert_qa(context = content_positive, question = 'How is Nestle making and impact?')"
   ]
  },
  {
   "cell_type": "code",
   "execution_count": 21,
   "metadata": {},
   "outputs": [
    {
     "data": {
      "text/plain": [
       "{'answer': 'U.S. coronavirus cases surpassed 7.5 million',\n",
       " 'end': 44,\n",
       " 'score': 0.043662771582603455,\n",
       " 'start': 0}"
      ]
     },
     "execution_count": 21,
     "metadata": {},
     "output_type": "execute_result"
    }
   ],
   "source": [
    "bert_qa(context = content_negative, question = \"How is the Coronavirus Pandemic evolving in the US?\")"
   ]
  },
  {
   "cell_type": "code",
   "execution_count": 22,
   "metadata": {},
   "outputs": [
    {
     "data": {
      "text/plain": [
       "{'answer': 'setting ominous seven-day records for infections.',\n",
       " 'end': 177,\n",
       " 'score': 0.011558104306459427,\n",
       " 'start': 127}"
      ]
     },
     "execution_count": 22,
     "metadata": {},
     "output_type": "execute_result"
    }
   ],
   "source": [
    "bert_qa(context = content_negative, question = \"Is there a solution to the problem?\")"
   ]
  },
  {
   "cell_type": "markdown",
   "metadata": {},
   "source": [
    "# LET'S GET REAL! "
   ]
  },
  {
   "cell_type": "markdown",
   "metadata": {},
   "source": [
    "Some of the real life cases from NLP are:\n",
    "* Match Clinical Trials\n",
    "* Auto-complete sentences\n",
    "* ChatBots\n",
    "* Customer Tickets (AutoTagging, Text Generation ...)\n",
    "* Speech Recognition (transcrive customer service calls into text)\n",
    "* Spam filter\n",
    "* Computer Assisted coding\n",
    "* Translation\n",
    "* Hiring and Recruitment recommendations\n",
    "* Security Authentication \n",
    "* Intelligence gathering for forecasting (stock prediction, Nestlé sales...)\n",
    "\n",
    "Nestle Use Cases:\n",
    "* **HCP Sensing for new trends discovery**\n",
    "By using NER to detect Biological entities in the text we are able to spot the latest trends in the biological environment\n",
    "* **Keywords Extraction**\n",
    "By preprocessing text using models for 5 different language step by step (tokenization, lemmatization, POS) we are able to find the most relevant words \n",
    "* **Infant Nutrition Sensing**\n",
    "Topic modeling to detect the main topics for positive or negative reviews for Nestlé and Competitors products\n",
    "* **PFME Chatbot**\n",
    "Using an IN-BOX solution called LUIS we can train a question model"
   ]
  },
  {
   "cell_type": "code",
   "execution_count": null,
   "metadata": {},
   "outputs": [],
   "source": []
  }
 ],
 "metadata": {
  "kernelspec": {
   "display_name": "Python 3",
   "language": "python",
   "name": "python3"
  },
  "language_info": {
   "codemirror_mode": {
    "name": "ipython",
    "version": 3
   },
   "file_extension": ".py",
   "mimetype": "text/x-python",
   "name": "python",
   "nbconvert_exporter": "python",
   "pygments_lexer": "ipython3",
   "version": "3.6.4"
  }
 },
 "nbformat": 4,
 "nbformat_minor": 2
}
